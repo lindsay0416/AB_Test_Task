{
 "cells": [
  {
   "cell_type": "markdown",
   "id": "57c4330b",
   "metadata": {},
   "source": [
    "# Insights Analyst Technical Test\n",
    "\n",
    "\n",
    "Goal:\n",
    "Find out which algorithm will performing better to provide the members with best experience.\n",
    "(Roger the Re-ranker and Penny’s Personalisation)\n",
    "\n",
    "Analysis flow:\n",
    "1. Data pre-precossing\n",
    "2. Data Visulisation \n",
    "3. AB Test Analysis\n"
   ]
  },
  {
   "cell_type": "code",
   "execution_count": 2,
   "id": "9cbb39aa",
   "metadata": {},
   "outputs": [],
   "source": [
    "# import package\n",
    "import numpy as np\n",
    "import pandas as pd\n",
    "import scipy \n",
    "from scipy import stats\n",
    "import statsmodels.stats.api as sms\n",
    "import matplotlib as mpl\n",
    "import matplotlib.pyplot as plt\n",
    "import seaborn as sns\n",
    "%matplotlib inline\n"
   ]
  },
  {
   "cell_type": "code",
   "execution_count": 3,
   "id": "ceb0ce5b",
   "metadata": {},
   "outputs": [
    {
     "data": {
      "text/html": [
       "<div>\n",
       "<style scoped>\n",
       "    .dataframe tbody tr th:only-of-type {\n",
       "        vertical-align: middle;\n",
       "    }\n",
       "\n",
       "    .dataframe tbody tr th {\n",
       "        vertical-align: top;\n",
       "    }\n",
       "\n",
       "    .dataframe thead th {\n",
       "        text-align: right;\n",
       "    }\n",
       "</style>\n",
       "<table border=\"1\" class=\"dataframe\">\n",
       "  <thead>\n",
       "    <tr style=\"text-align: right;\">\n",
       "      <th></th>\n",
       "      <th>date_id</th>\n",
       "      <th>group_id</th>\n",
       "      <th>session_result</th>\n",
       "      <th>session_count</th>\n",
       "    </tr>\n",
       "  </thead>\n",
       "  <tbody>\n",
       "    <tr>\n",
       "      <th>0</th>\n",
       "      <td>25/06/2018</td>\n",
       "      <td>A</td>\n",
       "      <td>0</td>\n",
       "      <td>763</td>\n",
       "    </tr>\n",
       "    <tr>\n",
       "      <th>1</th>\n",
       "      <td>25/06/2018</td>\n",
       "      <td>B</td>\n",
       "      <td>0</td>\n",
       "      <td>777</td>\n",
       "    </tr>\n",
       "    <tr>\n",
       "      <th>2</th>\n",
       "      <td>25/06/2018</td>\n",
       "      <td>A</td>\n",
       "      <td>1</td>\n",
       "      <td>3597</td>\n",
       "    </tr>\n",
       "    <tr>\n",
       "      <th>3</th>\n",
       "      <td>25/06/2018</td>\n",
       "      <td>B</td>\n",
       "      <td>1</td>\n",
       "      <td>3551</td>\n",
       "    </tr>\n",
       "    <tr>\n",
       "      <th>4</th>\n",
       "      <td>26/06/2018</td>\n",
       "      <td>A</td>\n",
       "      <td>0</td>\n",
       "      <td>694</td>\n",
       "    </tr>\n",
       "  </tbody>\n",
       "</table>\n",
       "</div>"
      ],
      "text/plain": [
       "      date_id group_id  session_result  session_count\n",
       "0  25/06/2018        A               0            763\n",
       "1  25/06/2018        B               0            777\n",
       "2  25/06/2018        A               1           3597\n",
       "3  25/06/2018        B               1           3551\n",
       "4  26/06/2018        A               0            694"
      ]
     },
     "execution_count": 3,
     "metadata": {},
     "output_type": "execute_result"
    }
   ],
   "source": [
    "# Import source data from csv file \n",
    "df = pd.read_csv('sql_input_201902.csv')\n",
    "df.head(5)"
   ]
  },
  {
   "cell_type": "code",
   "execution_count": 4,
   "id": "36b888f7",
   "metadata": {},
   "outputs": [
    {
     "name": "stdout",
     "output_type": "stream",
     "text": [
      "<class 'pandas.core.frame.DataFrame'>\n",
      "RangeIndex: 40 entries, 0 to 39\n",
      "Data columns (total 4 columns):\n",
      " #   Column          Non-Null Count  Dtype \n",
      "---  ------          --------------  ----- \n",
      " 0   date_id         40 non-null     object\n",
      " 1   group_id        40 non-null     object\n",
      " 2   session_result  40 non-null     int64 \n",
      " 3   session_count   40 non-null     int64 \n",
      "dtypes: int64(2), object(2)\n",
      "memory usage: 1.4+ KB\n"
     ]
    }
   ],
   "source": [
    "df.info()"
   ]
  },
  {
   "cell_type": "code",
   "execution_count": 5,
   "id": "6caeb01b",
   "metadata": {},
   "outputs": [
    {
     "data": {
      "text/html": [
       "<div>\n",
       "<style scoped>\n",
       "    .dataframe tbody tr th:only-of-type {\n",
       "        vertical-align: middle;\n",
       "    }\n",
       "\n",
       "    .dataframe tbody tr th {\n",
       "        vertical-align: top;\n",
       "    }\n",
       "\n",
       "    .dataframe thead th {\n",
       "        text-align: right;\n",
       "    }\n",
       "</style>\n",
       "<table border=\"1\" class=\"dataframe\">\n",
       "  <thead>\n",
       "    <tr style=\"text-align: right;\">\n",
       "      <th></th>\n",
       "      <th>session_count</th>\n",
       "    </tr>\n",
       "  </thead>\n",
       "  <tbody>\n",
       "    <tr>\n",
       "      <th>count</th>\n",
       "      <td>40.000000</td>\n",
       "    </tr>\n",
       "    <tr>\n",
       "      <th>mean</th>\n",
       "      <td>2201.300000</td>\n",
       "    </tr>\n",
       "    <tr>\n",
       "      <th>std</th>\n",
       "      <td>1272.318401</td>\n",
       "    </tr>\n",
       "    <tr>\n",
       "      <th>min</th>\n",
       "      <td>626.000000</td>\n",
       "    </tr>\n",
       "    <tr>\n",
       "      <th>25%</th>\n",
       "      <td>1170.500000</td>\n",
       "    </tr>\n",
       "    <tr>\n",
       "      <th>50%</th>\n",
       "      <td>1961.000000</td>\n",
       "    </tr>\n",
       "    <tr>\n",
       "      <th>75%</th>\n",
       "      <td>3223.500000</td>\n",
       "    </tr>\n",
       "    <tr>\n",
       "      <th>max</th>\n",
       "      <td>6510.000000</td>\n",
       "    </tr>\n",
       "  </tbody>\n",
       "</table>\n",
       "</div>"
      ],
      "text/plain": [
       "       session_count\n",
       "count      40.000000\n",
       "mean     2201.300000\n",
       "std      1272.318401\n",
       "min       626.000000\n",
       "25%      1170.500000\n",
       "50%      1961.000000\n",
       "75%      3223.500000\n",
       "max      6510.000000"
      ]
     },
     "execution_count": 5,
     "metadata": {},
     "output_type": "execute_result"
    }
   ],
   "source": [
    "# Check interference data: \n",
    "# e.g. Overlap: same group member could be in the different groups, '0' value\n",
    "df[[\"session_count\"]].describe()  "
   ]
  },
  {
   "cell_type": "code",
   "execution_count": 6,
   "id": "fd3af979",
   "metadata": {},
   "outputs": [
    {
     "data": {
      "text/html": [
       "<div>\n",
       "<style scoped>\n",
       "    .dataframe tbody tr th:only-of-type {\n",
       "        vertical-align: middle;\n",
       "    }\n",
       "\n",
       "    .dataframe tbody tr th {\n",
       "        vertical-align: top;\n",
       "    }\n",
       "\n",
       "    .dataframe thead th {\n",
       "        text-align: right;\n",
       "    }\n",
       "</style>\n",
       "<table border=\"1\" class=\"dataframe\">\n",
       "  <thead>\n",
       "    <tr style=\"text-align: right;\">\n",
       "      <th></th>\n",
       "      <th>date_id</th>\n",
       "      <th>group_id</th>\n",
       "      <th>session_count</th>\n",
       "    </tr>\n",
       "  </thead>\n",
       "  <tbody>\n",
       "    <tr>\n",
       "      <th>0</th>\n",
       "      <td>01/07/2018</td>\n",
       "      <td>A</td>\n",
       "      <td>4553</td>\n",
       "    </tr>\n",
       "    <tr>\n",
       "      <th>1</th>\n",
       "      <td>01/07/2018</td>\n",
       "      <td>B</td>\n",
       "      <td>4475</td>\n",
       "    </tr>\n",
       "    <tr>\n",
       "      <th>2</th>\n",
       "      <td>02/07/2018</td>\n",
       "      <td>A</td>\n",
       "      <td>4293</td>\n",
       "    </tr>\n",
       "    <tr>\n",
       "      <th>3</th>\n",
       "      <td>02/07/2018</td>\n",
       "      <td>B</td>\n",
       "      <td>4092</td>\n",
       "    </tr>\n",
       "    <tr>\n",
       "      <th>4</th>\n",
       "      <td>03/07/2018</td>\n",
       "      <td>A</td>\n",
       "      <td>4310</td>\n",
       "    </tr>\n",
       "    <tr>\n",
       "      <th>5</th>\n",
       "      <td>03/07/2018</td>\n",
       "      <td>B</td>\n",
       "      <td>3797</td>\n",
       "    </tr>\n",
       "    <tr>\n",
       "      <th>6</th>\n",
       "      <td>04/07/2018</td>\n",
       "      <td>A</td>\n",
       "      <td>4067</td>\n",
       "    </tr>\n",
       "    <tr>\n",
       "      <th>7</th>\n",
       "      <td>04/07/2018</td>\n",
       "      <td>B</td>\n",
       "      <td>3922</td>\n",
       "    </tr>\n",
       "    <tr>\n",
       "      <th>8</th>\n",
       "      <td>25/06/2018</td>\n",
       "      <td>A</td>\n",
       "      <td>4360</td>\n",
       "    </tr>\n",
       "    <tr>\n",
       "      <th>9</th>\n",
       "      <td>25/06/2018</td>\n",
       "      <td>B</td>\n",
       "      <td>4328</td>\n",
       "    </tr>\n",
       "    <tr>\n",
       "      <th>10</th>\n",
       "      <td>26/06/2018</td>\n",
       "      <td>A</td>\n",
       "      <td>4047</td>\n",
       "    </tr>\n",
       "    <tr>\n",
       "      <th>11</th>\n",
       "      <td>26/06/2018</td>\n",
       "      <td>B</td>\n",
       "      <td>4383</td>\n",
       "    </tr>\n",
       "    <tr>\n",
       "      <th>12</th>\n",
       "      <td>27/06/2018</td>\n",
       "      <td>A</td>\n",
       "      <td>3479</td>\n",
       "    </tr>\n",
       "    <tr>\n",
       "      <th>13</th>\n",
       "      <td>27/06/2018</td>\n",
       "      <td>B</td>\n",
       "      <td>4287</td>\n",
       "    </tr>\n",
       "    <tr>\n",
       "      <th>14</th>\n",
       "      <td>28/06/2018</td>\n",
       "      <td>A</td>\n",
       "      <td>3889</td>\n",
       "    </tr>\n",
       "    <tr>\n",
       "      <th>15</th>\n",
       "      <td>28/06/2018</td>\n",
       "      <td>B</td>\n",
       "      <td>7280</td>\n",
       "    </tr>\n",
       "    <tr>\n",
       "      <th>16</th>\n",
       "      <td>29/06/2018</td>\n",
       "      <td>A</td>\n",
       "      <td>4751</td>\n",
       "    </tr>\n",
       "    <tr>\n",
       "      <th>17</th>\n",
       "      <td>29/06/2018</td>\n",
       "      <td>B</td>\n",
       "      <td>4369</td>\n",
       "    </tr>\n",
       "    <tr>\n",
       "      <th>18</th>\n",
       "      <td>30/06/2018</td>\n",
       "      <td>A</td>\n",
       "      <td>4680</td>\n",
       "    </tr>\n",
       "    <tr>\n",
       "      <th>19</th>\n",
       "      <td>30/06/2018</td>\n",
       "      <td>B</td>\n",
       "      <td>4690</td>\n",
       "    </tr>\n",
       "  </tbody>\n",
       "</table>\n",
       "</div>"
      ],
      "text/plain": [
       "       date_id group_id  session_count\n",
       "0   01/07/2018        A           4553\n",
       "1   01/07/2018        B           4475\n",
       "2   02/07/2018        A           4293\n",
       "3   02/07/2018        B           4092\n",
       "4   03/07/2018        A           4310\n",
       "5   03/07/2018        B           3797\n",
       "6   04/07/2018        A           4067\n",
       "7   04/07/2018        B           3922\n",
       "8   25/06/2018        A           4360\n",
       "9   25/06/2018        B           4328\n",
       "10  26/06/2018        A           4047\n",
       "11  26/06/2018        B           4383\n",
       "12  27/06/2018        A           3479\n",
       "13  27/06/2018        B           4287\n",
       "14  28/06/2018        A           3889\n",
       "15  28/06/2018        B           7280\n",
       "16  29/06/2018        A           4751\n",
       "17  29/06/2018        B           4369\n",
       "18  30/06/2018        A           4680\n",
       "19  30/06/2018        B           4690"
      ]
     },
     "execution_count": 6,
     "metadata": {},
     "output_type": "execute_result"
    }
   ],
   "source": [
    "# Plot 1\n",
    "# Data Aggregation, group the data by Date (date_id) and the group_id (A, B), Sum the session count\n",
    "df_result = df.groupby(\n",
    "    ['date_id','group_id'], as_index = False\n",
    "    ).agg(\n",
    "            {\n",
    "                'session_count': sum    \n",
    "            })\n",
    "\n",
    "df_result"
   ]
  },
  {
   "cell_type": "code",
   "execution_count": 7,
   "id": "efdbd4aa",
   "metadata": {},
   "outputs": [
    {
     "data": {
      "text/html": [
       "<div>\n",
       "<style scoped>\n",
       "    .dataframe tbody tr th:only-of-type {\n",
       "        vertical-align: middle;\n",
       "    }\n",
       "\n",
       "    .dataframe tbody tr th {\n",
       "        vertical-align: top;\n",
       "    }\n",
       "\n",
       "    .dataframe thead th {\n",
       "        text-align: right;\n",
       "    }\n",
       "</style>\n",
       "<table border=\"1\" class=\"dataframe\">\n",
       "  <thead>\n",
       "    <tr style=\"text-align: right;\">\n",
       "      <th></th>\n",
       "      <th>date_id</th>\n",
       "      <th>Group_A</th>\n",
       "      <th>Group_B</th>\n",
       "    </tr>\n",
       "  </thead>\n",
       "  <tbody>\n",
       "    <tr>\n",
       "      <th>0</th>\n",
       "      <td>01/07/2018</td>\n",
       "      <td>4553</td>\n",
       "      <td>4475</td>\n",
       "    </tr>\n",
       "    <tr>\n",
       "      <th>1</th>\n",
       "      <td>02/07/2018</td>\n",
       "      <td>4293</td>\n",
       "      <td>4092</td>\n",
       "    </tr>\n",
       "    <tr>\n",
       "      <th>2</th>\n",
       "      <td>03/07/2018</td>\n",
       "      <td>4310</td>\n",
       "      <td>3797</td>\n",
       "    </tr>\n",
       "    <tr>\n",
       "      <th>3</th>\n",
       "      <td>04/07/2018</td>\n",
       "      <td>4067</td>\n",
       "      <td>3922</td>\n",
       "    </tr>\n",
       "    <tr>\n",
       "      <th>4</th>\n",
       "      <td>25/06/2018</td>\n",
       "      <td>4360</td>\n",
       "      <td>4328</td>\n",
       "    </tr>\n",
       "    <tr>\n",
       "      <th>5</th>\n",
       "      <td>26/06/2018</td>\n",
       "      <td>4047</td>\n",
       "      <td>4383</td>\n",
       "    </tr>\n",
       "    <tr>\n",
       "      <th>6</th>\n",
       "      <td>27/06/2018</td>\n",
       "      <td>3479</td>\n",
       "      <td>4287</td>\n",
       "    </tr>\n",
       "    <tr>\n",
       "      <th>7</th>\n",
       "      <td>28/06/2018</td>\n",
       "      <td>3889</td>\n",
       "      <td>7280</td>\n",
       "    </tr>\n",
       "    <tr>\n",
       "      <th>8</th>\n",
       "      <td>29/06/2018</td>\n",
       "      <td>4751</td>\n",
       "      <td>4369</td>\n",
       "    </tr>\n",
       "    <tr>\n",
       "      <th>9</th>\n",
       "      <td>30/06/2018</td>\n",
       "      <td>4680</td>\n",
       "      <td>4690</td>\n",
       "    </tr>\n",
       "  </tbody>\n",
       "</table>\n",
       "</div>"
      ],
      "text/plain": [
       "      date_id  Group_A  Group_B\n",
       "0  01/07/2018     4553     4475\n",
       "1  02/07/2018     4293     4092\n",
       "2  03/07/2018     4310     3797\n",
       "3  04/07/2018     4067     3922\n",
       "4  25/06/2018     4360     4328\n",
       "5  26/06/2018     4047     4383\n",
       "6  27/06/2018     3479     4287\n",
       "7  28/06/2018     3889     7280\n",
       "8  29/06/2018     4751     4369\n",
       "9  30/06/2018     4680     4690"
      ]
     },
     "execution_count": 7,
     "metadata": {},
     "output_type": "execute_result"
    }
   ],
   "source": [
    "# create a dataframe for visulisation\n",
    "# Date, Session count, Group_id\n",
    "d_A = df_result[df_result['group_id'] == \"A\"]\n",
    "da = d_A[['date_id', 'session_count']]\n",
    "da = da.rename(columns={'session_count':'Group_A'})\n",
    "d_B = df_result[df_result['group_id'] == \"B\"]\n",
    "db = d_B[['date_id', 'session_count']]\n",
    "db = db.rename(columns={'session_count':'Group_B'})\n",
    "df_session = pd.merge(da,db)\n",
    "\n",
    "df_session"
   ]
  },
  {
   "cell_type": "code",
   "execution_count": 8,
   "id": "b49c449a",
   "metadata": {},
   "outputs": [
    {
     "data": {
      "text/plain": [
       "<matplotlib.legend.Legend at 0x25e978bba60>"
      ]
     },
     "execution_count": 8,
     "metadata": {},
     "output_type": "execute_result"
    },
    {
     "data": {
      "image/png": "[encoded data removed]",
      "text/plain": [
       "<Figure size 1080x432 with 1 Axes>"
      ]
     },
     "metadata": {
      "needs_background": "light"
     },
     "output_type": "display_data"
    }
   ],
   "source": [
    "plt.figure(figsize=(15,6))\n",
    "plt.title(\"sum of session by date and by experiment group\")\n",
    "plt.xlabel(\"Date\")\n",
    "plt.ylabel(\"Session Count\")\n",
    "plt.plot(df_session.date_id, df_session.Group_A,color=\"orange\")\n",
    "plt.plot(df_session.date_id, df_session.Group_B,color=\"skyblue\")\n",
    "plt.legend(['Group_B', 'Group_A'], loc = 1)\n"
   ]
  },
  {
   "cell_type": "markdown",
   "id": "cfef66b0",
   "metadata": {},
   "source": [
    "Finding: \n",
    "1. The conversion rate was much higher than others on 28 June 2018, \n",
    "\n",
    "\n",
    "28 June 2018 is a Thursday. As usual, there won't be such a big session count on Thursday, maybe there was a promotion on the website that day. However, due to the small amount of data, it's not capable of finding out the reason for this. \n",
    "If there is enough data, I will find the evidence that the session count and conversion rate are abnormal for this day and exclude the data.\n",
    "\n",
    "2. From 26 June 2018 to 28 June 2018, the session count of group B were larger than group A. From 30 June 2018 to 04 July 2018 the session count of group B starts to exceed the session count of group A.\n",
    "\n",
    "At the beginning of this experiment, I think at the beginning of the experiment, users in group B had not yet adapted to the new algorithm, but after a few days, the new algorithm gradually attracted more traffic. The performance of groups A and B will be analysed and proved in later steps."
   ]
  },
  {
   "cell_type": "code",
   "execution_count": 56,
   "id": "c55b1106",
   "metadata": {},
   "outputs": [
    {
     "data": {
      "text/html": [
       "<div>\n",
       "<style scoped>\n",
       "    .dataframe tbody tr th:only-of-type {\n",
       "        vertical-align: middle;\n",
       "    }\n",
       "\n",
       "    .dataframe tbody tr th {\n",
       "        vertical-align: top;\n",
       "    }\n",
       "\n",
       "    .dataframe thead th {\n",
       "        text-align: right;\n",
       "    }\n",
       "</style>\n",
       "<table border=\"1\" class=\"dataframe\">\n",
       "  <thead>\n",
       "    <tr style=\"text-align: right;\">\n",
       "      <th></th>\n",
       "      <th>group_id</th>\n",
       "      <th>session_count</th>\n",
       "    </tr>\n",
       "  </thead>\n",
       "  <tbody>\n",
       "    <tr>\n",
       "      <th>0</th>\n",
       "      <td>A</td>\n",
       "      <td>42429</td>\n",
       "    </tr>\n",
       "    <tr>\n",
       "      <th>1</th>\n",
       "      <td>B</td>\n",
       "      <td>45623</td>\n",
       "    </tr>\n",
       "  </tbody>\n",
       "</table>\n",
       "</div>"
      ],
      "text/plain": [
       "  group_id  session_count\n",
       "0        A          42429\n",
       "1        B          45623"
      ]
     },
     "execution_count": 56,
     "metadata": {},
     "output_type": "execute_result"
    }
   ],
   "source": [
    "# Plot 2\n",
    "# Data Aggregation, group by group_id (A, B), Sum the session count\n",
    "df_result = df.groupby(\n",
    "    ['group_id'], as_index = False\n",
    "    ).agg(\n",
    "            {\n",
    "                'session_count': sum\n",
    "            })\n",
    "\n",
    "df_result\n"
   ]
  },
  {
   "cell_type": "code",
   "execution_count": 10,
   "id": "4259bbec",
   "metadata": {},
   "outputs": [],
   "source": [
    "# function to add value labels\n",
    "x = df_result['group_id']\n",
    "y = df_result['session_count']\n",
    "def addlabels(x,y):\n",
    "    for i in range(len(x)):\n",
    "        plt.text(i, y[i], y[i], ha = 'center')"
   ]
  },
  {
   "cell_type": "code",
   "execution_count": 11,
   "id": "aa75a163",
   "metadata": {},
   "outputs": [
    {
     "data": {
      "image/png": "[encoded data removed]",
      "text/plain": [
       "<Figure size 432x288 with 1 Axes>"
      ]
     },
     "metadata": {
      "needs_background": "light"
     },
     "output_type": "display_data"
    }
   ],
   "source": [
    "# plot bar chart\n",
    "plt.bar(x, y)\n",
    "addlabels(x, y) # calling the function to add value labels\n",
    "plt.title('Session Counts By Group Id')\n",
    "plt.xlabel('Group ID')\n",
    "plt.ylabel('Session Count')\n",
    "plt.show()"
   ]
  },
  {
   "cell_type": "markdown",
   "id": "79e5e641",
   "metadata": {},
   "source": [
    "Finding:\n",
    "\n",
    "This bar chart is used to check the sample size of each group. To make the AB Test results more reliable and accurately, during the experiment both the control group and treatment group should have a similar sample size. As we can see clearly from the bar chart, the session count of Group A (the control group) is 42429, meanwhile, the session count of Group B (the treatment group) is 45623, they are similar in number. \n",
    "\n",
    "If the session count difference is particularly large, I will select a similar number of datasets for future analysis."
   ]
  },
  {
   "cell_type": "code",
   "execution_count": 12,
   "id": "fa62cf64",
   "metadata": {},
   "outputs": [
    {
     "data": {
      "text/html": [
       "<div>\n",
       "<style scoped>\n",
       "    .dataframe tbody tr th:only-of-type {\n",
       "        vertical-align: middle;\n",
       "    }\n",
       "\n",
       "    .dataframe tbody tr th {\n",
       "        vertical-align: top;\n",
       "    }\n",
       "\n",
       "    .dataframe thead th {\n",
       "        text-align: right;\n",
       "    }\n",
       "</style>\n",
       "<table border=\"1\" class=\"dataframe\">\n",
       "  <thead>\n",
       "    <tr style=\"text-align: right;\">\n",
       "      <th></th>\n",
       "      <th>group_id</th>\n",
       "      <th>session_result</th>\n",
       "      <th>session_count</th>\n",
       "    </tr>\n",
       "  </thead>\n",
       "  <tbody>\n",
       "    <tr>\n",
       "      <th>0</th>\n",
       "      <td>A</td>\n",
       "      <td>0</td>\n",
       "      <td>11072</td>\n",
       "    </tr>\n",
       "    <tr>\n",
       "      <th>1</th>\n",
       "      <td>A</td>\n",
       "      <td>1</td>\n",
       "      <td>31357</td>\n",
       "    </tr>\n",
       "    <tr>\n",
       "      <th>2</th>\n",
       "      <td>B</td>\n",
       "      <td>0</td>\n",
       "      <td>10947</td>\n",
       "    </tr>\n",
       "    <tr>\n",
       "      <th>3</th>\n",
       "      <td>B</td>\n",
       "      <td>1</td>\n",
       "      <td>34676</td>\n",
       "    </tr>\n",
       "  </tbody>\n",
       "</table>\n",
       "</div>"
      ],
      "text/plain": [
       "  group_id  session_result  session_count\n",
       "0        A               0          11072\n",
       "1        A               1          31357\n",
       "2        B               0          10947\n",
       "3        B               1          34676"
      ]
     },
     "execution_count": 12,
     "metadata": {},
     "output_type": "execute_result"
    }
   ],
   "source": [
    "# Plot 3\n",
    "\n",
    "df_result = df.groupby(\n",
    "    ['group_id', 'session_result'], as_index = False\n",
    "    ).agg(\n",
    "            {\n",
    "                'session_count': sum,\n",
    "            })\n",
    "\n",
    "\n",
    "df_result"
   ]
  },
  {
   "cell_type": "code",
   "execution_count": 49,
   "id": "d4ea38c6",
   "metadata": {},
   "outputs": [
    {
     "data": {
      "text/html": [
       "<div>\n",
       "<style scoped>\n",
       "    .dataframe tbody tr th:only-of-type {\n",
       "        vertical-align: middle;\n",
       "    }\n",
       "\n",
       "    .dataframe tbody tr th {\n",
       "        vertical-align: top;\n",
       "    }\n",
       "\n",
       "    .dataframe thead th {\n",
       "        text-align: right;\n",
       "    }\n",
       "</style>\n",
       "<table border=\"1\" class=\"dataframe\">\n",
       "  <thead>\n",
       "    <tr style=\"text-align: right;\">\n",
       "      <th></th>\n",
       "      <th>group_id</th>\n",
       "      <th>0</th>\n",
       "      <th>1</th>\n",
       "      <th>Total</th>\n",
       "      <th>Rate</th>\n",
       "    </tr>\n",
       "  </thead>\n",
       "  <tbody>\n",
       "    <tr>\n",
       "      <th>0</th>\n",
       "      <td>A</td>\n",
       "      <td>11072</td>\n",
       "      <td>31357</td>\n",
       "      <td>42429</td>\n",
       "      <td>0.739</td>\n",
       "    </tr>\n",
       "    <tr>\n",
       "      <th>1</th>\n",
       "      <td>B</td>\n",
       "      <td>10947</td>\n",
       "      <td>34676</td>\n",
       "      <td>45623</td>\n",
       "      <td>0.760</td>\n",
       "    </tr>\n",
       "  </tbody>\n",
       "</table>\n",
       "</div>"
      ],
      "text/plain": [
       "  group_id      0      1  Total   Rate\n",
       "0        A  11072  31357  42429  0.739\n",
       "1        B  10947  34676  45623  0.760"
      ]
     },
     "execution_count": 49,
     "metadata": {},
     "output_type": "execute_result"
    }
   ],
   "source": [
    "# Plot 3, total conversion rate\n",
    "df_cr = pd.DataFrame({'group_id': ['A', 'B'],\n",
    "                   '0': [11072, 10947],\n",
    "                   '1': [31357, 34676],\n",
    "                   'Total': [42429, 45623],\n",
    "                   'Rate': [0.739, 0.760]},\n",
    "                   columns = ['group_id', '0', '1', 'Total', 'Rate'])\n",
    "df_cr"
   ]
  },
  {
   "cell_type": "code",
   "execution_count": 50,
   "id": "54a96b77",
   "metadata": {},
   "outputs": [],
   "source": [
    "# function to add value labels\n",
    "x = df_cr['group_id']\n",
    "y = df_cr['Rate']\n",
    "def addlabels(x,y):\n",
    "    for i in range(len(x)):\n",
    "        plt.text(i, y[i], y[i], ha = 'center')"
   ]
  },
  {
   "cell_type": "code",
   "execution_count": 51,
   "id": "a7ecd61a",
   "metadata": {},
   "outputs": [
    {
     "data": {
      "image/png": "[encoded data removed]",
      "text/plain": [
       "<Figure size 432x288 with 1 Axes>"
      ]
     },
     "metadata": {
      "needs_background": "light"
     },
     "output_type": "display_data"
    }
   ],
   "source": [
    "# plot bar chart\n",
    "plt.bar(x, y)\n",
    "addlabels(x, y) # calling the function to add value labels\n",
    "plt.title('Conversion Rate By Group')\n",
    "plt.xlabel('Group ID')\n",
    "plt.ylabel('Conversion Rate')\n",
    "plt.show()"
   ]
  },
  {
   "cell_type": "markdown",
   "id": "8c0c5b08",
   "metadata": {},
   "source": [
    "Hypotheise:\n",
    "\n",
    "H0： There is no significate different in conversion rate by Group A and Group B.\n",
    "H1:  There is significate different in conversion rate by Group A and Group B.\n",
    "\n",
    "\n",
    "Chi-Squard test\n"
   ]
  },
  {
   "cell_type": "code",
   "execution_count": 52,
   "id": "db85d683",
   "metadata": {},
   "outputs": [
    {
     "name": "stdout",
     "output_type": "stream",
     "text": [
      "<class 'pandas.core.frame.DataFrame'>\n",
      "RangeIndex: 2 entries, 0 to 1\n",
      "Data columns (total 5 columns):\n",
      " #   Column    Non-Null Count  Dtype  \n",
      "---  ------    --------------  -----  \n",
      " 0   group_id  2 non-null      object \n",
      " 1   0         2 non-null      int64  \n",
      " 2   1         2 non-null      int64  \n",
      " 3   Total     2 non-null      int64  \n",
      " 4   Rate      2 non-null      float64\n",
      "dtypes: float64(1), int64(3), object(1)\n",
      "memory usage: 208.0+ bytes\n"
     ]
    }
   ],
   "source": [
    "A_convert = df_cr.at[0, '1']\n",
    "B_convert = df_cr.at[1, '1']\n",
    "A_total = df_cr.at[0, 'Total']\n",
    "B_total = df_cr.at[1, 'Total']\n",
    "df_cr.info()"
   ]
  },
  {
   "cell_type": "code",
   "execution_count": 53,
   "id": "44bcf6c7",
   "metadata": {},
   "outputs": [],
   "source": [
    "T = np.array([[A_convert, A_total], [B_convert, B_total]])"
   ]
  },
  {
   "cell_type": "code",
   "execution_count": 54,
   "id": "5f6c6af8",
   "metadata": {},
   "outputs": [
    {
     "data": {
      "text/plain": [
       "array([[31357, 42429],\n",
       "       [34676, 45623]], dtype=int64)"
      ]
     },
     "execution_count": 54,
     "metadata": {},
     "output_type": "execute_result"
    }
   ],
   "source": [
    "T"
   ]
  },
  {
   "cell_type": "markdown",
   "id": "9c4a7dc7",
   "metadata": {},
   "source": [
    "Findings:\n",
    "\n",
    "1. The total conversion rate between 30 June 2018 and 04 July 2018 of Group A and Group B are 73.9% and 76% respectively.\n",
    "2. In this experiment, the conversion rate of Group B is larger than group A.\n",
    "\n",
    "This can indicate that the algorithm used by group B was performed better than A. \n",
    "\n",
    "However, on 28 June 2018, Group B experienced an abnormally large amount of traffic, and the overall session count of Group B was 7% higher than that of Group A. All of these may lead to that the conversion rate of group B is higher than that of group A. Due to these two reasons, I cannot draw specific conclusions about which algorithm is better.\n",
    "\n",
    "More dataset are required for the final conclusions."
   ]
  },
  {
   "cell_type": "code",
   "execution_count": 26,
   "id": "f947e3fc",
   "metadata": {},
   "outputs": [
    {
     "data": {
      "text/html": [
       "<div>\n",
       "<style scoped>\n",
       "    .dataframe tbody tr th:only-of-type {\n",
       "        vertical-align: middle;\n",
       "    }\n",
       "\n",
       "    .dataframe tbody tr th {\n",
       "        vertical-align: top;\n",
       "    }\n",
       "\n",
       "    .dataframe thead th {\n",
       "        text-align: right;\n",
       "    }\n",
       "</style>\n",
       "<table border=\"1\" class=\"dataframe\">\n",
       "  <thead>\n",
       "    <tr style=\"text-align: right;\">\n",
       "      <th></th>\n",
       "      <th>date_id</th>\n",
       "      <th>Conversion_rateA</th>\n",
       "    </tr>\n",
       "  </thead>\n",
       "  <tbody>\n",
       "    <tr>\n",
       "      <th>0</th>\n",
       "      <td>25/06/2018</td>\n",
       "      <td>0.825000</td>\n",
       "    </tr>\n",
       "    <tr>\n",
       "      <th>1</th>\n",
       "      <td>26/06/2018</td>\n",
       "      <td>0.828515</td>\n",
       "    </tr>\n",
       "    <tr>\n",
       "      <th>2</th>\n",
       "      <td>27/06/2018</td>\n",
       "      <td>0.820063</td>\n",
       "    </tr>\n",
       "    <tr>\n",
       "      <th>3</th>\n",
       "      <td>28/06/2018</td>\n",
       "      <td>0.802520</td>\n",
       "    </tr>\n",
       "    <tr>\n",
       "      <th>4</th>\n",
       "      <td>29/06/2018</td>\n",
       "      <td>0.747632</td>\n",
       "    </tr>\n",
       "    <tr>\n",
       "      <th>5</th>\n",
       "      <td>30/06/2018</td>\n",
       "      <td>0.686752</td>\n",
       "    </tr>\n",
       "    <tr>\n",
       "      <th>6</th>\n",
       "      <td>01/07/2018</td>\n",
       "      <td>0.714254</td>\n",
       "    </tr>\n",
       "    <tr>\n",
       "      <th>7</th>\n",
       "      <td>02/07/2018</td>\n",
       "      <td>0.683904</td>\n",
       "    </tr>\n",
       "    <tr>\n",
       "      <th>8</th>\n",
       "      <td>03/07/2018</td>\n",
       "      <td>0.659397</td>\n",
       "    </tr>\n",
       "    <tr>\n",
       "      <th>9</th>\n",
       "      <td>04/07/2018</td>\n",
       "      <td>0.648389</td>\n",
       "    </tr>\n",
       "  </tbody>\n",
       "</table>\n",
       "</div>"
      ],
      "text/plain": [
       "      date_id  Conversion_rateA\n",
       "0  25/06/2018          0.825000\n",
       "1  26/06/2018          0.828515\n",
       "2  27/06/2018          0.820063\n",
       "3  28/06/2018          0.802520\n",
       "4  29/06/2018          0.747632\n",
       "5  30/06/2018          0.686752\n",
       "6  01/07/2018          0.714254\n",
       "7  02/07/2018          0.683904\n",
       "8  03/07/2018          0.659397\n",
       "9  04/07/2018          0.648389"
      ]
     },
     "execution_count": 26,
     "metadata": {},
     "output_type": "execute_result"
    }
   ],
   "source": [
    "# Plot 4\n",
    "d_a0 = df[df['session_result'] == 0]\n",
    "d_a0 = d_a0[d_a0['group_id'] == \"A\"]\n",
    "d_a00 = d_a0[['date_id', 'session_count']]\n",
    "d_a00 = d_a00.rename(columns={'session_count':'group_0'})\n",
    "\n",
    "d_a1 = df[df['session_result'] == 1]\n",
    "d_a1 = d_a1[d_a1['group_id'] == \"A\"]\n",
    "d_a11 = d_a1[['date_id', 'session_count']]\n",
    "d_a11 = d_a11.rename(columns={'session_count':'group_1'})\n",
    "\n",
    "df_session_resultA = pd.merge(d_a00,d_a11)\n",
    "df_session_resultA['total_session'] = df_session_resultA['group_0'] + df_session_resultA['group_1']\n",
    "df_session_resultA['Conversion_rateA'] = df_session_resultA['group_1']/df_session_resultA['total_session']\n",
    "df_session_resultA = df_session_resultA[['date_id', 'Conversion_rateA']]\n",
    "df_session_resultA"
   ]
  },
  {
   "cell_type": "code",
   "execution_count": 22,
   "id": "f82c721c",
   "metadata": {},
   "outputs": [
    {
     "data": {
      "text/html": [
       "<div>\n",
       "<style scoped>\n",
       "    .dataframe tbody tr th:only-of-type {\n",
       "        vertical-align: middle;\n",
       "    }\n",
       "\n",
       "    .dataframe tbody tr th {\n",
       "        vertical-align: top;\n",
       "    }\n",
       "\n",
       "    .dataframe thead th {\n",
       "        text-align: right;\n",
       "    }\n",
       "</style>\n",
       "<table border=\"1\" class=\"dataframe\">\n",
       "  <thead>\n",
       "    <tr style=\"text-align: right;\">\n",
       "      <th></th>\n",
       "      <th>date_id</th>\n",
       "      <th>Conversion_rateB</th>\n",
       "    </tr>\n",
       "  </thead>\n",
       "  <tbody>\n",
       "    <tr>\n",
       "      <th>0</th>\n",
       "      <td>25/06/2018</td>\n",
       "      <td>0.820471</td>\n",
       "    </tr>\n",
       "    <tr>\n",
       "      <th>1</th>\n",
       "      <td>26/06/2018</td>\n",
       "      <td>0.801734</td>\n",
       "    </tr>\n",
       "    <tr>\n",
       "      <th>2</th>\n",
       "      <td>27/06/2018</td>\n",
       "      <td>0.805458</td>\n",
       "    </tr>\n",
       "    <tr>\n",
       "      <th>3</th>\n",
       "      <td>28/06/2018</td>\n",
       "      <td>0.894231</td>\n",
       "    </tr>\n",
       "    <tr>\n",
       "      <th>4</th>\n",
       "      <td>29/06/2018</td>\n",
       "      <td>0.747539</td>\n",
       "    </tr>\n",
       "    <tr>\n",
       "      <th>5</th>\n",
       "      <td>30/06/2018</td>\n",
       "      <td>0.693603</td>\n",
       "    </tr>\n",
       "    <tr>\n",
       "      <th>6</th>\n",
       "      <td>01/07/2018</td>\n",
       "      <td>0.686257</td>\n",
       "    </tr>\n",
       "    <tr>\n",
       "      <th>7</th>\n",
       "      <td>02/07/2018</td>\n",
       "      <td>0.708456</td>\n",
       "    </tr>\n",
       "    <tr>\n",
       "      <th>8</th>\n",
       "      <td>03/07/2018</td>\n",
       "      <td>0.713721</td>\n",
       "    </tr>\n",
       "    <tr>\n",
       "      <th>9</th>\n",
       "      <td>04/07/2018</td>\n",
       "      <td>0.624426</td>\n",
       "    </tr>\n",
       "  </tbody>\n",
       "</table>\n",
       "</div>"
      ],
      "text/plain": [
       "      date_id  Conversion_rateB\n",
       "0  25/06/2018          0.820471\n",
       "1  26/06/2018          0.801734\n",
       "2  27/06/2018          0.805458\n",
       "3  28/06/2018          0.894231\n",
       "4  29/06/2018          0.747539\n",
       "5  30/06/2018          0.693603\n",
       "6  01/07/2018          0.686257\n",
       "7  02/07/2018          0.708456\n",
       "8  03/07/2018          0.713721\n",
       "9  04/07/2018          0.624426"
      ]
     },
     "execution_count": 22,
     "metadata": {},
     "output_type": "execute_result"
    }
   ],
   "source": [
    "d_b0 = df[df['session_result'] == 0]\n",
    "d_b0 = d_b0[d_b0['group_id'] == \"B\"]\n",
    "d_b00 = d_b0[['date_id', 'session_count']]\n",
    "d_b00 = d_b00.rename(columns={'session_count':'group_0'})\n",
    "\n",
    "d_b1 = df[df['session_result'] == 1]\n",
    "d_b1 = d_b1[d_b1['group_id'] == \"B\"]\n",
    "d_b11 = d_b1[['date_id', 'session_count']]\n",
    "d_b11 = d_b11.rename(columns={'session_count':'group_1'})\n",
    "\n",
    "df_session_resultB = pd.merge(d_b00,d_b11)\n",
    "df_session_resultB['total_session'] = df_session_resultB['group_0'] + df_session_resultB['group_1']\n",
    "df_session_resultB['Conversion_rateB'] = df_session_resultB['group_1']/df_session_resultB['total_session']\n",
    "df_session_resultB = df_session_resultB[['date_id', 'Conversion_rateB']]\n",
    "df_session_resultB"
   ]
  },
  {
   "cell_type": "code",
   "execution_count": 28,
   "id": "1562a6f1",
   "metadata": {},
   "outputs": [
    {
     "data": {
      "text/html": [
       "<div>\n",
       "<style scoped>\n",
       "    .dataframe tbody tr th:only-of-type {\n",
       "        vertical-align: middle;\n",
       "    }\n",
       "\n",
       "    .dataframe tbody tr th {\n",
       "        vertical-align: top;\n",
       "    }\n",
       "\n",
       "    .dataframe thead th {\n",
       "        text-align: right;\n",
       "    }\n",
       "</style>\n",
       "<table border=\"1\" class=\"dataframe\">\n",
       "  <thead>\n",
       "    <tr style=\"text-align: right;\">\n",
       "      <th></th>\n",
       "      <th>date_id</th>\n",
       "      <th>Conversion_rateA</th>\n",
       "      <th>Conversion_rateB</th>\n",
       "    </tr>\n",
       "  </thead>\n",
       "  <tbody>\n",
       "    <tr>\n",
       "      <th>0</th>\n",
       "      <td>25/06/2018</td>\n",
       "      <td>0.825000</td>\n",
       "      <td>0.820471</td>\n",
       "    </tr>\n",
       "    <tr>\n",
       "      <th>1</th>\n",
       "      <td>26/06/2018</td>\n",
       "      <td>0.828515</td>\n",
       "      <td>0.801734</td>\n",
       "    </tr>\n",
       "    <tr>\n",
       "      <th>2</th>\n",
       "      <td>27/06/2018</td>\n",
       "      <td>0.820063</td>\n",
       "      <td>0.805458</td>\n",
       "    </tr>\n",
       "    <tr>\n",
       "      <th>3</th>\n",
       "      <td>28/06/2018</td>\n",
       "      <td>0.802520</td>\n",
       "      <td>0.894231</td>\n",
       "    </tr>\n",
       "    <tr>\n",
       "      <th>4</th>\n",
       "      <td>29/06/2018</td>\n",
       "      <td>0.747632</td>\n",
       "      <td>0.747539</td>\n",
       "    </tr>\n",
       "    <tr>\n",
       "      <th>5</th>\n",
       "      <td>30/06/2018</td>\n",
       "      <td>0.686752</td>\n",
       "      <td>0.693603</td>\n",
       "    </tr>\n",
       "    <tr>\n",
       "      <th>6</th>\n",
       "      <td>01/07/2018</td>\n",
       "      <td>0.714254</td>\n",
       "      <td>0.686257</td>\n",
       "    </tr>\n",
       "    <tr>\n",
       "      <th>7</th>\n",
       "      <td>02/07/2018</td>\n",
       "      <td>0.683904</td>\n",
       "      <td>0.708456</td>\n",
       "    </tr>\n",
       "    <tr>\n",
       "      <th>8</th>\n",
       "      <td>03/07/2018</td>\n",
       "      <td>0.659397</td>\n",
       "      <td>0.713721</td>\n",
       "    </tr>\n",
       "    <tr>\n",
       "      <th>9</th>\n",
       "      <td>04/07/2018</td>\n",
       "      <td>0.648389</td>\n",
       "      <td>0.624426</td>\n",
       "    </tr>\n",
       "  </tbody>\n",
       "</table>\n",
       "</div>"
      ],
      "text/plain": [
       "      date_id  Conversion_rateA  Conversion_rateB\n",
       "0  25/06/2018          0.825000          0.820471\n",
       "1  26/06/2018          0.828515          0.801734\n",
       "2  27/06/2018          0.820063          0.805458\n",
       "3  28/06/2018          0.802520          0.894231\n",
       "4  29/06/2018          0.747632          0.747539\n",
       "5  30/06/2018          0.686752          0.693603\n",
       "6  01/07/2018          0.714254          0.686257\n",
       "7  02/07/2018          0.683904          0.708456\n",
       "8  03/07/2018          0.659397          0.713721\n",
       "9  04/07/2018          0.648389          0.624426"
      ]
     },
     "execution_count": 28,
     "metadata": {},
     "output_type": "execute_result"
    }
   ],
   "source": [
    "df_session_result_AB = pd.merge(df_session_resultA, df_session_resultB)\n",
    "df_session_result_AB"
   ]
  },
  {
   "cell_type": "code",
   "execution_count": 29,
   "id": "adec5fea",
   "metadata": {},
   "outputs": [
    {
     "data": {
      "text/plain": [
       "<matplotlib.legend.Legend at 0x25e9840e640>"
      ]
     },
     "execution_count": 29,
     "metadata": {},
     "output_type": "execute_result"
    },
    {
     "data": {
      "image/png": "[encoded data removed]",
      "text/plain": [
       "<Figure size 1080x432 with 1 Axes>"
      ]
     },
     "metadata": {
      "needs_background": "light"
     },
     "output_type": "display_data"
    }
   ],
   "source": [
    "plt.figure(figsize=(15,6))\n",
    "plt.title(\"sum of session by date and by experiment group\")\n",
    "plt.xlabel(\"Date\")\n",
    "plt.ylabel(\"Session Count\")\n",
    "plt.plot(df_session_result_AB.date_id, df_session_result_AB.Conversion_rateA,color=\"orange\")\n",
    "plt.plot(df_session_result_AB.date_id, df_session_result_AB.Conversion_rateB,color=\"skyblue\")\n",
    "plt.legend(['Conversion_rateA', 'Conversion_rateB'], loc = 1)"
   ]
  },
  {
   "cell_type": "code",
   "execution_count": 66,
   "id": "0663d533",
   "metadata": {},
   "outputs": [
    {
     "name": "stderr",
     "output_type": "stream",
     "text": [
      "C:\\Users\\Lindsay\\anaconda3\\lib\\site-packages\\seaborn\\distributions.py:2557: FutureWarning: `distplot` is a deprecated function and will be removed in a future version. Please adapt your code to use either `displot` (a figure-level function with similar flexibility) or `histplot` (an axes-level function for histograms).\n",
      "  warnings.warn(msg, FutureWarning)\n",
      "C:\\Users\\Lindsay\\anaconda3\\lib\\site-packages\\seaborn\\distributions.py:2557: FutureWarning: `distplot` is a deprecated function and will be removed in a future version. Please adapt your code to use either `displot` (a figure-level function with similar flexibility) or `histplot` (an axes-level function for histograms).\n",
      "  warnings.warn(msg, FutureWarning)\n"
     ]
    },
    {
     "data": {
      "text/plain": [
       "<AxesSubplot:xlabel='Conversion_rateB', ylabel='Density'>"
      ]
     },
     "execution_count": 66,
     "metadata": {},
     "output_type": "execute_result"
    },
    {
     "data": {
      "image/png": "[encoded data removed]",
      "text/plain": [
       "<Figure size 504x216 with 2 Axes>"
      ]
     },
     "metadata": {
      "needs_background": "light"
     },
     "output_type": "display_data"
    }
   ],
   "source": [
    "# Distribution\n",
    "# Distribution of Conversion rate ()\n",
    "\n",
    "# stc group A & B density/distribution  \n",
    "f, axes = plt.subplots(1, 2, figsize=(7, 3), sharey=True)\n",
    "f.suptitle('distribution of search_to_click rate by each group ')\n",
    "\n",
    "# Group A \n",
    "sns.distplot(df_session_result_AB.Conversion_rateA, ax=axes[0])\n",
    "\n",
    "# Group B\n",
    "sns.distplot(df_session_result_AB.Conversion_rateB, ax=axes[1])\n"
   ]
  },
  {
   "cell_type": "code",
   "execution_count": 63,
   "id": "ff343eb8",
   "metadata": {},
   "outputs": [
    {
     "data": {
      "text/plain": [
       "(7.39777710821204, 0.006530452568427456)"
      ]
     },
     "execution_count": 63,
     "metadata": {},
     "output_type": "execute_result"
    }
   ],
   "source": [
    "# Begin Test\n",
    "# Chi-squared test\n",
    "scipy.stats.chi2_contingency(T, correction=False, lambda_=\"log-likelihood\")[:2]"
   ]
  },
  {
   "cell_type": "code",
   "execution_count": 64,
   "id": "a698cdc3",
   "metadata": {},
   "outputs": [
    {
     "data": {
      "text/plain": [
       "(-0.23319523090997338, 0.8182410910496379)"
      ]
     },
     "execution_count": 64,
     "metadata": {},
     "output_type": "execute_result"
    }
   ],
   "source": [
    "# T- Test\n",
    "import scipy.stats as stats\n",
    "t_stat, p_val= stats.ttest_ind(df_session_result_AB.Conversion_rateA,df_session_result_AB.Conversion_rateB)\n",
    "t_stat , p_val\n",
    "\n",
    "# P value"
   ]
  },
  {
   "cell_type": "markdown",
   "id": "8a6e8e1b",
   "metadata": {},
   "source": [
    "Findings:\n",
    "    \n",
    "1. The trend of conversion rates for both group A and group B are going down from 25 June 2018 to 04 July 2018.\n",
    "2. The conversion rate reached the peak on 28 June 2018\n",
    "3. 25 June 2018 is a Monday"
   ]
  }
 ],
 "metadata": {
  "kernelspec": {
   "display_name": "Python 3",
   "language": "python",
   "name": "python3"
  },
  "language_info": {
   "codemirror_mode": {
    "name": "ipython",
    "version": 3
   },
   "file_extension": ".py",
   "mimetype": "text/x-python",
   "name": "python",
   "nbconvert_exporter": "python",
   "pygments_lexer": "ipython3",
   "version": "3.8.8"
  }
 },
 "nbformat": 4,
 "nbformat_minor": 5
}
